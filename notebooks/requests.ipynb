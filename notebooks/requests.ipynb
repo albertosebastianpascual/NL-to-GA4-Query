{
 "cells": [
  {
   "cell_type": "code",
   "execution_count": 2,
   "metadata": {},
   "outputs": [
    {
     "name": "stdout",
     "output_type": "stream",
     "text": [
      "Translated Text: get sessions segmentedby none from 2020 01 01 to 2020 12 31 filteredby none none none\n"
     ]
    }
   ],
   "source": [
    "import requests\n",
    "import json\n",
    "\n",
    "# URL del endpoint de Vertex AI\n",
    "endpoint_url = \"http://34.82.151.38:5000/translate\"\n",
    "\n",
    "# Datos de entrada\n",
    "data = {\n",
    "    \"text\": \"Dime las sesiones de 2020\"\n",
    "}\n",
    "\n",
    "# Realizar la solicitud POST\n",
    "response = requests.post(endpoint_url, headers={\"Content-Type\": \"application/json\"}, data=json.dumps(data))\n",
    "\n",
    "# Verificar la respuesta\n",
    "if response.status_code == 200:\n",
    "    translated_text = response.json().get('translated_text')\n",
    "    print(\"Translated Text:\", translated_text)\n",
    "else:\n",
    "    print(f\"Request failed with status code {response.status_code}\")\n",
    "    print(\"Response:\", response.text)\n"
   ]
  }
 ],
 "metadata": {
  "kernelspec": {
   "display_name": "Python 3",
   "language": "python",
   "name": "python3"
  },
  "language_info": {
   "codemirror_mode": {
    "name": "ipython",
    "version": 3
   },
   "file_extension": ".py",
   "mimetype": "text/x-python",
   "name": "python",
   "nbconvert_exporter": "python",
   "pygments_lexer": "ipython3",
   "version": "3.9.2"
  }
 },
 "nbformat": 4,
 "nbformat_minor": 2
}
